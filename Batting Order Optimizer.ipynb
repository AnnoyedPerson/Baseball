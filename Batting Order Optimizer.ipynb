{
 "cells": [
  {
   "cell_type": "code",
   "execution_count": 1,
   "id": "7c1ddcab",
   "metadata": {},
   "outputs": [],
   "source": [
    "import numpy as np\n",
    "import pandas as pd\n",
    "import random\n",
    "from deap import base, creator, tools, algorithms\n",
    "import json\n",
    "from joblib import Parallel, delayed"
   ]
  },
  {
   "cell_type": "code",
   "execution_count": 2,
   "id": "517f5957",
   "metadata": {},
   "outputs": [],
   "source": [
    "# Define the number of innings as a global variable\n",
    "num_innings = 4"
   ]
  },
  {
   "cell_type": "code",
   "execution_count": 3,
   "id": "40a0bec6",
   "metadata": {},
   "outputs": [],
   "source": [
    "# Input the players who will play in today's game\n",
    "playing_today = [1, 2, 4, 7, 8, 3, 5]"
   ]
  },
  {
   "cell_type": "code",
   "execution_count": 4,
   "id": "609c552f",
   "metadata": {},
   "outputs": [],
   "source": [
    "#Load player stats\n",
    "\n",
    "with open('player_stats.json', 'r') as f:\n",
    "    player_stats = json.load(f)"
   ]
  },
  {
   "cell_type": "code",
   "execution_count": 5,
   "id": "d691d25c",
   "metadata": {},
   "outputs": [
    {
     "data": {
      "text/plain": [
       "[{'bases_advanced': 0, 'out': 0, 'home_run': 0, 'at_bats': 0},\n",
       " {'bases_advanced': 0, 'out': 0, 'home_run': 0, 'at_bats': 0},\n",
       " {'bases_advanced': 0, 'out': 0, 'home_run': 0, 'at_bats': 0},\n",
       " {'bases_advanced': 0, 'out': 0, 'home_run': 0, 'at_bats': 0},\n",
       " {'bases_advanced': 0, 'out': 0, 'home_run': 0, 'at_bats': 0},\n",
       " {'bases_advanced': 0, 'out': 0, 'home_run': 0, 'at_bats': 0},\n",
       " {'bases_advanced': 0, 'out': 0, 'home_run': 0, 'at_bats': 0},\n",
       " {'bases_advanced': 0, 'out': 0, 'home_run': 0, 'at_bats': 0},\n",
       " {'bases_advanced': 0, 'out': 0, 'home_run': 0, 'at_bats': 0},\n",
       " {'bases_advanced': 0, 'out': 0, 'home_run': 0, 'at_bats': 0},\n",
       " {'bases_advanced': 0, 'out': 0, 'home_run': 0, 'at_bats': 0},\n",
       " {'bases_advanced': 0, 'out': 0, 'home_run': 0, 'at_bats': 0},\n",
       " {'bases_advanced': 0, 'out': 0, 'home_run': 0, 'at_bats': 0},\n",
       " {'bases_advanced': 0, 'out': 0, 'home_run': 0, 'at_bats': 0},\n",
       " {'bases_advanced': 0, 'out': 0, 'home_run': 0, 'at_bats': 0}]"
      ]
     },
     "execution_count": 5,
     "metadata": {},
     "output_type": "execute_result"
    }
   ],
   "source": [
    "#Show player stats before updating\n",
    "list(player_stats.values())"
   ]
  },
  {
   "cell_type": "code",
   "execution_count": 6,
   "id": "02d81f4b",
   "metadata": {},
   "outputs": [],
   "source": [
    "#Function to update player stats after each game\n",
    "def update_player_stats(df, player_stats):\n",
    "    for _, row in df.iterrows():\n",
    "        player_id = str(row['player_id'])\n",
    "        player_stats[player_id]['bases_advanced'] += row['bases_advanced']\n",
    "        player_stats[player_id]['out'] += row['outs']\n",
    "        player_stats[player_id]['home_run'] += row['home_runs']\n",
    "        player_stats[player_id]['at_bats'] += row['at_bats']"
   ]
  },
  {
   "cell_type": "code",
   "execution_count": 7,
   "id": "99e56898",
   "metadata": {},
   "outputs": [],
   "source": [
    "# Example DataFrame containing the previous game data\n",
    "# DataFrame structure:\n",
    "# - game_id: Identifier for the game\n",
    "# - player_id: Identifier for the player\n",
    "# - batting_order: Position of the player in the batting order\n",
    "# - bases_advanced: Number of bases the player advanced in this game\n",
    "# - outs: Number of times the player got out in this game, meaning they didn't get on base. \n",
    "#         Do NOT count an out if they get out while running the bases.\n",
    "# - home_runs: Number of home runs the player hit in this game\n",
    "# - at_bats: Number of times the player batted in this game\n",
    "\n",
    "data = {\n",
    "    'game_id': [1, 1, 1, 1, 1, 1, 1, 1, 1, 1, 1, 1, 1, 1, 1],\n",
    "    'player_id': [1, 2, 3, 4, 5, 6, 7, 8, 9, 10, 11, 12, 13, 14, 15],\n",
    "    'batting_order': [1, 2, 3, 4, 5, 6, 7, 8, 9, 10, 11, 12, 13, 14, 15],\n",
    "    'bases_advanced': [4, 2, 3, 5, 1, 0, 1, 3, 2, 1, 3, 4, 2, 0, 1],\n",
    "    'outs': [1, 1, 1, 0, 2, 0, 0, 1, 2, 0, 1, 1, 0, 1, 1],\n",
    "    'home_runs': [0, 1, 1, 1, 0, 0, 0, 0, 0, 0, 0, 0, 0, 0, 0],\n",
    "    'at_bats': [4, 4, 4, 4, 4, 4, 4, 4, 4, 4, 4, 4, 4, 3, 3]\n",
    "}"
   ]
  },
  {
   "cell_type": "code",
   "execution_count": 8,
   "id": "a1971b03",
   "metadata": {},
   "outputs": [],
   "source": [
    "# Assuming df is the DataFrame containing the latest game data\n",
    "df = pd.DataFrame(data)\n",
    "update_player_stats(df, player_stats)"
   ]
  },
  {
   "cell_type": "code",
   "execution_count": 9,
   "id": "7ac1f18a",
   "metadata": {},
   "outputs": [
    {
     "data": {
      "text/plain": [
       "[{'bases_advanced': 4, 'out': 1, 'home_run': 0, 'at_bats': 4},\n",
       " {'bases_advanced': 2, 'out': 1, 'home_run': 1, 'at_bats': 4},\n",
       " {'bases_advanced': 3, 'out': 1, 'home_run': 1, 'at_bats': 4},\n",
       " {'bases_advanced': 5, 'out': 0, 'home_run': 1, 'at_bats': 4},\n",
       " {'bases_advanced': 1, 'out': 2, 'home_run': 0, 'at_bats': 4},\n",
       " {'bases_advanced': 0, 'out': 0, 'home_run': 0, 'at_bats': 4},\n",
       " {'bases_advanced': 1, 'out': 0, 'home_run': 0, 'at_bats': 4},\n",
       " {'bases_advanced': 3, 'out': 1, 'home_run': 0, 'at_bats': 4},\n",
       " {'bases_advanced': 2, 'out': 2, 'home_run': 0, 'at_bats': 4},\n",
       " {'bases_advanced': 1, 'out': 0, 'home_run': 0, 'at_bats': 4},\n",
       " {'bases_advanced': 3, 'out': 1, 'home_run': 0, 'at_bats': 4},\n",
       " {'bases_advanced': 4, 'out': 1, 'home_run': 0, 'at_bats': 4},\n",
       " {'bases_advanced': 2, 'out': 0, 'home_run': 0, 'at_bats': 4},\n",
       " {'bases_advanced': 0, 'out': 1, 'home_run': 0, 'at_bats': 3},\n",
       " {'bases_advanced': 1, 'out': 1, 'home_run': 0, 'at_bats': 3}]"
      ]
     },
     "execution_count": 9,
     "metadata": {},
     "output_type": "execute_result"
    }
   ],
   "source": [
    "#Show player_stats after updating\n",
    "list(player_stats.values())"
   ]
  },
  {
   "cell_type": "code",
   "execution_count": 10,
   "id": "5a25485f",
   "metadata": {},
   "outputs": [],
   "source": [
    "#Define the simulations of innings and games\n",
    "\n",
    "def simulate_inning(batting_order, player_stats, start_batter_index):\n",
    "    bases = [0, 0, 0]\n",
    "    outs = 0\n",
    "    runs = 0\n",
    "    batter_index = start_batter_index\n",
    "    num_players = len(batting_order)\n",
    "    \n",
    "    while outs < 3:\n",
    "        batter = batting_order[batter_index % num_players]\n",
    "        stats = player_stats[str(batter)]\n",
    "        \n",
    "        # Calculate probabilities based on stats\n",
    "        at_bats = stats['at_bats']\n",
    "        if at_bats == 0:\n",
    "            outs += 1\n",
    "            batter_index += 1\n",
    "            continue\n",
    "            \n",
    "        prob_out = stats['out'] / at_bats\n",
    "        prob_home_run = stats['home_run'] / at_bats\n",
    "        prob_bases_advanced = stats['bases_advanced'] / at_bats\n",
    "        \n",
    "        result = np.random.choice(\n",
    "            ['out', 'home_run', 'bases_advanced'],\n",
    "            p=[prob_out, prob_home_run, 1 - prob_out - prob_home_run]\n",
    "        )\n",
    "        \n",
    "        if result == 'out':\n",
    "            outs += 1\n",
    "        elif result == 'home_run':\n",
    "            runs += sum(bases) + 1\n",
    "            bases = [0, 0, 0]\n",
    "        else:\n",
    "            bases_advanced = min(int(prob_bases_advanced), 3)\n",
    "            for i in range(2, -1, -1):\n",
    "                if bases[i] == 1:\n",
    "                    if i + bases_advanced >= 3:\n",
    "                        runs += 1\n",
    "                        bases[i] = 0\n",
    "                    else:\n",
    "                        bases[i + bases_advanced] = 1\n",
    "                        bases[i] = 0\n",
    "            bases[bases_advanced - 1] = 1\n",
    "            \n",
    "        batter_index += 1\n",
    "        \n",
    "    return runs, batter_index\n",
    "\n",
    "def simulate_game(batting_order, player_stats, num_innings=num_innings, num_simulations=2):\n",
    "    total_runs = 0\n",
    "    \n",
    "    for _ in range(num_simulations):\n",
    "        runs = 0\n",
    "        batter_index = 0\n",
    "        for _ in range(num_innings):\n",
    "            inning_runs, batter_index = simulate_inning(batting_order, player_stats, batter_index)\n",
    "            runs += inning_runs\n",
    "        total_runs += runs\n",
    "    \n",
    "    return total_runs / num_simulations\n"
   ]
  },
  {
   "cell_type": "code",
   "execution_count": 11,
   "id": "816399c0",
   "metadata": {},
   "outputs": [],
   "source": [
    "# Define the Genetic Algorithm setup that will find the batting order that maximizes runs per game\n",
    "creator.create(\"FitnessMax\", base.Fitness, weights=(1.0,))\n",
    "creator.create(\"Individual\", list, fitness=creator.FitnessMax)\n",
    "\n",
    "toolbox = base.Toolbox()\n",
    "toolbox.register(\"indices\", random.sample, range(len(playing_today)), len(playing_today))\n",
    "toolbox.register(\"individual\", tools.initIterate, creator.Individual, toolbox.indices)\n",
    "toolbox.register(\"population\", tools.initRepeat, list, toolbox.individual)\n",
    "\n",
    "def evalBattingOrder(individual):\n",
    "    order = [playing_today[i] for i in individual]\n",
    "    avg_runs = np.mean([simulate_game(order, player_stats, num_innings=num_innings) for _ in range(len(playing_today))])\n",
    "    return avg_runs,\n",
    "\n",
    "# Parallelize the evaluation of individuals\n",
    "def parallel_eval_population(population):\n",
    "    fitnesses = Parallel(n_jobs=-1)(delayed(evalBattingOrder)(ind) for ind in population)\n",
    "    for ind, fit in zip(population, fitnesses):\n",
    "        ind.fitness.values = fit\n",
    "\n",
    "toolbox.register(\"mate\", tools.cxOrdered)\n",
    "toolbox.register(\"mutate\", tools.mutShuffleIndexes, indpb=0.05)\n",
    "toolbox.register(\"select\", tools.selTournament, tournsize=3)\n",
    "toolbox.register(\"evaluate\", evalBattingOrder)\n",
    "\n",
    "def find_optimal_order(player_stats, playing_today, pop_size, num_gens):\n",
    "    population = toolbox.population(n=pop_size)\n",
    "    for gen in range(num_gens):\n",
    "        offspring = algorithms.varAnd(population, toolbox, cxpb=0.7, mutpb=0.2)\n",
    "        parallel_eval_population(offspring)\n",
    "        population = toolbox.select(offspring, k=len(population))\n",
    "    best_individual = tools.selBest(population, 1)[0]\n",
    "    best_order = [playing_today[i] for i in best_individual]\n",
    "    best_avg_runs = evalBattingOrder(best_individual)[0]\n",
    "    return best_order, best_avg_runs"
   ]
  },
  {
   "cell_type": "code",
   "execution_count": 12,
   "id": "7247fa1e",
   "metadata": {},
   "outputs": [
    {
     "name": "stdout",
     "output_type": "stream",
     "text": [
      "Optimal batting order: [1, 3, 7, 4, 5, 8, 2], Average runs: 22.071428571428573\n"
     ]
    }
   ],
   "source": [
    "# Re-run the optimization before today's game\n",
    "#Lower the pop_size and num_gens to speed up computation at the expense of solution quality\n",
    "optimal_order, best_avg_runs = find_optimal_order(player_stats, playing_today, pop_size=50, num_gens=10)\n",
    "print(f\"Optimal batting order: {optimal_order}, Average runs: {best_avg_runs}\")"
   ]
  },
  {
   "cell_type": "code",
   "execution_count": 13,
   "id": "9dd0cd92",
   "metadata": {},
   "outputs": [],
   "source": [
    "#Save player stats\n",
    "\n",
    "#with open('player_stats.json', 'w') as f:\n",
    "#    json.dump(player_stats, f)"
   ]
  }
 ],
 "metadata": {
  "kernelspec": {
   "display_name": "Python 3 (ipykernel)",
   "language": "python",
   "name": "python3"
  },
  "language_info": {
   "codemirror_mode": {
    "name": "ipython",
    "version": 3
   },
   "file_extension": ".py",
   "mimetype": "text/x-python",
   "name": "python",
   "nbconvert_exporter": "python",
   "pygments_lexer": "ipython3",
   "version": "3.11.5"
  }
 },
 "nbformat": 4,
 "nbformat_minor": 5
}
